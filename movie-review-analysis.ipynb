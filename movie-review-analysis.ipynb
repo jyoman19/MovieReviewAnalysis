{
 "cells": [
  {
   "cell_type": "code",
   "execution_count": 1,
   "id": "292616f7",
   "metadata": {
    "execution": {
     "iopub.execute_input": "2023-08-19T12:03:12.185920Z",
     "iopub.status.busy": "2023-08-19T12:03:12.185346Z",
     "iopub.status.idle": "2023-08-19T12:03:24.158124Z",
     "shell.execute_reply": "2023-08-19T12:03:24.157015Z"
    },
    "papermill": {
     "duration": 11.986409,
     "end_time": "2023-08-19T12:03:24.160771",
     "exception": false,
     "start_time": "2023-08-19T12:03:12.174362",
     "status": "completed"
    },
    "tags": []
   },
   "outputs": [
    {
     "name": "stderr",
     "output_type": "stream",
     "text": [
      "/opt/conda/lib/python3.10/site-packages/scipy/__init__.py:146: UserWarning: A NumPy version >=1.16.5 and <1.23.0 is required for this version of SciPy (detected version 1.23.5\n",
      "  warnings.warn(f\"A NumPy version >={np_minversion} and <{np_maxversion}\"\n",
      "/opt/conda/lib/python3.10/site-packages/tensorflow_io/python/ops/__init__.py:98: UserWarning: unable to load libtensorflow_io_plugins.so: unable to open file: libtensorflow_io_plugins.so, from paths: ['/opt/conda/lib/python3.10/site-packages/tensorflow_io/python/ops/libtensorflow_io_plugins.so']\n",
      "caused by: ['/opt/conda/lib/python3.10/site-packages/tensorflow_io/python/ops/libtensorflow_io_plugins.so: undefined symbol: _ZN3tsl6StatusC1EN10tensorflow5error4CodeESt17basic_string_viewIcSt11char_traitsIcEENS_14SourceLocationE']\n",
      "  warnings.warn(f\"unable to load libtensorflow_io_plugins.so: {e}\")\n",
      "/opt/conda/lib/python3.10/site-packages/tensorflow_io/python/ops/__init__.py:104: UserWarning: file system plugins are not loaded: unable to open file: libtensorflow_io.so, from paths: ['/opt/conda/lib/python3.10/site-packages/tensorflow_io/python/ops/libtensorflow_io.so']\n",
      "caused by: ['/opt/conda/lib/python3.10/site-packages/tensorflow_io/python/ops/libtensorflow_io.so: undefined symbol: _ZTVN10tensorflow13GcsFileSystemE']\n",
      "  warnings.warn(f\"file system plugins are not loaded: {e}\")\n",
      "/opt/conda/lib/python3.10/site-packages/tensorflow_addons/utils/tfa_eol_msg.py:23: UserWarning: \n",
      "\n",
      "TensorFlow Addons (TFA) has ended development and introduction of new features.\n",
      "TFA has entered a minimal maintenance and release mode until a planned end of life in May 2024.\n",
      "Please modify downstream libraries to take dependencies from other repositories in our TensorFlow community (e.g. Keras, Keras-CV, and Keras-NLP). \n",
      "\n",
      "For more information see: https://github.com/tensorflow/addons/issues/2807 \n",
      "\n",
      "  warnings.warn(\n"
     ]
    }
   ],
   "source": [
    "import pandas as pd\n",
    "import numpy as np\n",
    "import tensorflow as tf\n",
    "import nltk, re, time\n",
    "from nltk.corpus import stopwords\n",
    "from string import punctuation\n",
    "from collections import defaultdict\n",
    "from tqdm import tqdm\n",
    "from sklearn.model_selection import train_test_split\n",
    "from keras.preprocessing.text import Tokenizer\n",
    "from keras.utils import pad_sequences\n",
    "from collections import namedtuple\n",
    "from tensorflow.python.framework import ops\n",
    "import tensorflow_addons as tfa"
   ]
  },
  {
   "cell_type": "code",
   "execution_count": 2,
   "id": "22c368cf",
   "metadata": {
    "execution": {
     "iopub.execute_input": "2023-08-19T12:03:24.182462Z",
     "iopub.status.busy": "2023-08-19T12:03:24.180579Z",
     "iopub.status.idle": "2023-08-19T12:03:26.315295Z",
     "shell.execute_reply": "2023-08-19T12:03:26.314022Z"
    },
    "papermill": {
     "duration": 2.14858,
     "end_time": "2023-08-19T12:03:26.318246",
     "exception": false,
     "start_time": "2023-08-19T12:03:24.169666",
     "status": "completed"
    },
    "tags": []
   },
   "outputs": [],
   "source": [
    "# Load the data\n",
    "train = pd.read_csv(\"/kaggle/input/word2vec-nlp-tutorial/labeledTrainData.tsv.zip\", delimiter=\"\\t\")\n",
    "test = pd.read_csv(\"/kaggle/input/word2vec-nlp-tutorial/testData.tsv.zip\", delimiter=\"\\t\")"
   ]
  },
  {
   "cell_type": "code",
   "execution_count": 3,
   "id": "6c5520f6",
   "metadata": {
    "execution": {
     "iopub.execute_input": "2023-08-19T12:03:26.337382Z",
     "iopub.status.busy": "2023-08-19T12:03:26.336993Z",
     "iopub.status.idle": "2023-08-19T12:03:26.342982Z",
     "shell.execute_reply": "2023-08-19T12:03:26.341660Z"
    },
    "papermill": {
     "duration": 0.018618,
     "end_time": "2023-08-19T12:03:26.345423",
     "exception": false,
     "start_time": "2023-08-19T12:03:26.326805",
     "status": "completed"
    },
    "tags": []
   },
   "outputs": [
    {
     "name": "stdout",
     "output_type": "stream",
     "text": [
      "(25000, 3)\n",
      "(25000, 2)\n"
     ]
    }
   ],
   "source": [
    "# Compare the lengths of the datasets\n",
    "print(train.shape)\n",
    "print(test.shape)"
   ]
  },
  {
   "cell_type": "code",
   "execution_count": 4,
   "id": "8c787e1d",
   "metadata": {
    "execution": {
     "iopub.execute_input": "2023-08-19T12:03:26.364922Z",
     "iopub.status.busy": "2023-08-19T12:03:26.364442Z",
     "iopub.status.idle": "2023-08-19T12:03:26.389239Z",
     "shell.execute_reply": "2023-08-19T12:03:26.388034Z"
    },
    "papermill": {
     "duration": 0.03767,
     "end_time": "2023-08-19T12:03:26.391980",
     "exception": false,
     "start_time": "2023-08-19T12:03:26.354310",
     "status": "completed"
    },
    "tags": []
   },
   "outputs": [
    {
     "data": {
      "text/html": [
       "<div>\n",
       "<style scoped>\n",
       "    .dataframe tbody tr th:only-of-type {\n",
       "        vertical-align: middle;\n",
       "    }\n",
       "\n",
       "    .dataframe tbody tr th {\n",
       "        vertical-align: top;\n",
       "    }\n",
       "\n",
       "    .dataframe thead th {\n",
       "        text-align: right;\n",
       "    }\n",
       "</style>\n",
       "<table border=\"1\" class=\"dataframe\">\n",
       "  <thead>\n",
       "    <tr style=\"text-align: right;\">\n",
       "      <th></th>\n",
       "      <th>id</th>\n",
       "      <th>sentiment</th>\n",
       "      <th>review</th>\n",
       "    </tr>\n",
       "  </thead>\n",
       "  <tbody>\n",
       "    <tr>\n",
       "      <th>0</th>\n",
       "      <td>5814_8</td>\n",
       "      <td>1</td>\n",
       "      <td>With all this stuff going down at the moment w...</td>\n",
       "    </tr>\n",
       "    <tr>\n",
       "      <th>1</th>\n",
       "      <td>2381_9</td>\n",
       "      <td>1</td>\n",
       "      <td>\\The Classic War of the Worlds\\\" by Timothy Hi...</td>\n",
       "    </tr>\n",
       "    <tr>\n",
       "      <th>2</th>\n",
       "      <td>7759_3</td>\n",
       "      <td>0</td>\n",
       "      <td>The film starts with a manager (Nicholas Bell)...</td>\n",
       "    </tr>\n",
       "    <tr>\n",
       "      <th>3</th>\n",
       "      <td>3630_4</td>\n",
       "      <td>0</td>\n",
       "      <td>It must be assumed that those who praised this...</td>\n",
       "    </tr>\n",
       "    <tr>\n",
       "      <th>4</th>\n",
       "      <td>9495_8</td>\n",
       "      <td>1</td>\n",
       "      <td>Superbly trashy and wondrously unpretentious 8...</td>\n",
       "    </tr>\n",
       "  </tbody>\n",
       "</table>\n",
       "</div>"
      ],
      "text/plain": [
       "       id  sentiment                                             review\n",
       "0  5814_8          1  With all this stuff going down at the moment w...\n",
       "1  2381_9          1  \\The Classic War of the Worlds\\\" by Timothy Hi...\n",
       "2  7759_3          0  The film starts with a manager (Nicholas Bell)...\n",
       "3  3630_4          0  It must be assumed that those who praised this...\n",
       "4  9495_8          1  Superbly trashy and wondrously unpretentious 8..."
      ]
     },
     "execution_count": 4,
     "metadata": {},
     "output_type": "execute_result"
    }
   ],
   "source": [
    "train.head()"
   ]
  },
  {
   "cell_type": "code",
   "execution_count": 5,
   "id": "d93f2b53",
   "metadata": {
    "execution": {
     "iopub.execute_input": "2023-08-19T12:03:26.414840Z",
     "iopub.status.busy": "2023-08-19T12:03:26.413619Z",
     "iopub.status.idle": "2023-08-19T12:03:26.425620Z",
     "shell.execute_reply": "2023-08-19T12:03:26.424277Z"
    },
    "papermill": {
     "duration": 0.024994,
     "end_time": "2023-08-19T12:03:26.428227",
     "exception": false,
     "start_time": "2023-08-19T12:03:26.403233",
     "status": "completed"
    },
    "tags": []
   },
   "outputs": [
    {
     "data": {
      "text/html": [
       "<div>\n",
       "<style scoped>\n",
       "    .dataframe tbody tr th:only-of-type {\n",
       "        vertical-align: middle;\n",
       "    }\n",
       "\n",
       "    .dataframe tbody tr th {\n",
       "        vertical-align: top;\n",
       "    }\n",
       "\n",
       "    .dataframe thead th {\n",
       "        text-align: right;\n",
       "    }\n",
       "</style>\n",
       "<table border=\"1\" class=\"dataframe\">\n",
       "  <thead>\n",
       "    <tr style=\"text-align: right;\">\n",
       "      <th></th>\n",
       "      <th>id</th>\n",
       "      <th>review</th>\n",
       "    </tr>\n",
       "  </thead>\n",
       "  <tbody>\n",
       "    <tr>\n",
       "      <th>0</th>\n",
       "      <td>12311_10</td>\n",
       "      <td>Naturally in a film who's main themes are of m...</td>\n",
       "    </tr>\n",
       "    <tr>\n",
       "      <th>1</th>\n",
       "      <td>8348_2</td>\n",
       "      <td>This movie is a disaster within a disaster fil...</td>\n",
       "    </tr>\n",
       "    <tr>\n",
       "      <th>2</th>\n",
       "      <td>5828_4</td>\n",
       "      <td>All in all, this is a movie for kids. We saw i...</td>\n",
       "    </tr>\n",
       "    <tr>\n",
       "      <th>3</th>\n",
       "      <td>7186_2</td>\n",
       "      <td>Afraid of the Dark left me with the impression...</td>\n",
       "    </tr>\n",
       "    <tr>\n",
       "      <th>4</th>\n",
       "      <td>12128_7</td>\n",
       "      <td>A very accurate depiction of small time mob li...</td>\n",
       "    </tr>\n",
       "  </tbody>\n",
       "</table>\n",
       "</div>"
      ],
      "text/plain": [
       "         id                                             review\n",
       "0  12311_10  Naturally in a film who's main themes are of m...\n",
       "1    8348_2  This movie is a disaster within a disaster fil...\n",
       "2    5828_4  All in all, this is a movie for kids. We saw i...\n",
       "3    7186_2  Afraid of the Dark left me with the impression...\n",
       "4   12128_7  A very accurate depiction of small time mob li..."
      ]
     },
     "execution_count": 5,
     "metadata": {},
     "output_type": "execute_result"
    }
   ],
   "source": [
    "test.head()"
   ]
  },
  {
   "cell_type": "code",
   "execution_count": 6,
   "id": "f73dc35e",
   "metadata": {
    "execution": {
     "iopub.execute_input": "2023-08-19T12:03:26.449068Z",
     "iopub.status.busy": "2023-08-19T12:03:26.448634Z",
     "iopub.status.idle": "2023-08-19T12:03:26.498174Z",
     "shell.execute_reply": "2023-08-19T12:03:26.496708Z"
    },
    "papermill": {
     "duration": 0.063664,
     "end_time": "2023-08-19T12:03:26.501418",
     "exception": false,
     "start_time": "2023-08-19T12:03:26.437754",
     "status": "completed"
    },
    "tags": []
   },
   "outputs": [
    {
     "name": "stdout",
     "output_type": "stream",
     "text": [
      "id           0\n",
      "sentiment    0\n",
      "review       0\n",
      "dtype: int64\n",
      "id        0\n",
      "review    0\n",
      "dtype: int64\n"
     ]
    }
   ],
   "source": [
    " #Check for any null values\n",
    "print(train.isnull().sum())\n",
    "print(test.isnull().sum())"
   ]
  },
  {
   "cell_type": "code",
   "execution_count": 7,
   "id": "b2201808",
   "metadata": {
    "execution": {
     "iopub.execute_input": "2023-08-19T12:03:26.523423Z",
     "iopub.status.busy": "2023-08-19T12:03:26.523011Z",
     "iopub.status.idle": "2023-08-19T12:03:26.532791Z",
     "shell.execute_reply": "2023-08-19T12:03:26.531471Z"
    },
    "papermill": {
     "duration": 0.02342,
     "end_time": "2023-08-19T12:03:26.535199",
     "exception": false,
     "start_time": "2023-08-19T12:03:26.511779",
     "status": "completed"
    },
    "tags": []
   },
   "outputs": [],
   "source": [
    "def clean_text(text, remove_stopwords=True):\n",
    "    '''Clean the text, with the option to remove stopwords'''\n",
    "    \n",
    "    # Convert words to lower case and split them\n",
    "    text = text.lower().split()\n",
    "\n",
    "    # Optionally, remove stop words\n",
    "    if remove_stopwords:\n",
    "        stops = set(stopwords.words(\"english\"))\n",
    "        text = [w for w in text if not w in stops]\n",
    "    \n",
    "    text = \" \".join(text)\n",
    "\n",
    "    # Clean the text\n",
    "    text = re.sub(r\"<br />\", \" \", text)\n",
    "    text = re.sub(r\"[^a-z]\", \" \", text)\n",
    "    text = re.sub(r\"   \", \" \", text) # Remove any extra spaces\n",
    "    text = re.sub(r\"  \", \" \", text)\n",
    "    \n",
    "    # Remove punctuation from text\n",
    "    text = ''.join([c for c in text if c not in punctuation])\n",
    "    \n",
    "    # Return a list of words\n",
    "    return(text)"
   ]
  },
  {
   "cell_type": "code",
   "execution_count": 8,
   "id": "67e9f1cb",
   "metadata": {
    "execution": {
     "iopub.execute_input": "2023-08-19T12:03:26.555722Z",
     "iopub.status.busy": "2023-08-19T12:03:26.555263Z",
     "iopub.status.idle": "2023-08-19T12:03:37.659242Z",
     "shell.execute_reply": "2023-08-19T12:03:37.657871Z"
    },
    "papermill": {
     "duration": 11.118189,
     "end_time": "2023-08-19T12:03:37.662910",
     "exception": false,
     "start_time": "2023-08-19T12:03:26.544721",
     "status": "completed"
    },
    "tags": []
   },
   "outputs": [],
   "source": [
    "train_clean = []\n",
    "for review in train.review:\n",
    "    train_clean.append(clean_text(review))"
   ]
  },
  {
   "cell_type": "code",
   "execution_count": 9,
   "id": "caabf294",
   "metadata": {
    "execution": {
     "iopub.execute_input": "2023-08-19T12:03:37.683459Z",
     "iopub.status.busy": "2023-08-19T12:03:37.683021Z",
     "iopub.status.idle": "2023-08-19T12:03:48.717234Z",
     "shell.execute_reply": "2023-08-19T12:03:48.715826Z"
    },
    "papermill": {
     "duration": 11.048566,
     "end_time": "2023-08-19T12:03:48.720968",
     "exception": false,
     "start_time": "2023-08-19T12:03:37.672402",
     "status": "completed"
    },
    "tags": []
   },
   "outputs": [],
   "source": [
    "test_clean = []\n",
    "for review in test.review:\n",
    "    test_clean.append(clean_text(review))"
   ]
  },
  {
   "cell_type": "code",
   "execution_count": 10,
   "id": "6b9e8eb0",
   "metadata": {
    "execution": {
     "iopub.execute_input": "2023-08-19T12:03:48.741212Z",
     "iopub.status.busy": "2023-08-19T12:03:48.740788Z",
     "iopub.status.idle": "2023-08-19T12:03:48.747666Z",
     "shell.execute_reply": "2023-08-19T12:03:48.745833Z"
    },
    "papermill": {
     "duration": 0.020007,
     "end_time": "2023-08-19T12:03:48.750288",
     "exception": false,
     "start_time": "2023-08-19T12:03:48.730281",
     "status": "completed"
    },
    "tags": []
   },
   "outputs": [
    {
     "name": "stdout",
     "output_type": "stream",
     "text": [
      "stuff going moment mj i ve started listening music watching odd documentary there watched wiz watched moonwalker again maybe want get certain insight guy thought really cool eighties maybe make mind whether guilty innocent moonwalker part biography part feature film remember going see cinema originally released subtle messages mj s feeling towards press also obvious message drugs bad m kay visually impressive course michael jackson unless remotely like mj anyway going hate find boring may call mj egotist consenting making movie mj fans would say made fans true really nice him the actual feature film bit finally starts minutes excluding smooth criminal sequence joe pesci convincing psychopathic powerful drug lord wants mj dead bad beyond me mj overheard plans nah joe pesci s character ranted wanted people know supplying drugs etc dunno maybe hates mj s music lots cool things like mj turning car robot whole speed demon sequence also director must patience saint came filming kiddy bad sequence usually directors hate working one kid let alone whole bunch performing complex dance scene bottom line movie people like mj one level another which think people not stay away try give wholesome message ironically mj s bestest buddy movie girl michael jackson truly one talented people ever grace planet guilty well attention i ve gave subject hmmm well know people different behind closed doors know fact either extremely nice stupid guy one sickest liars hope latter \n",
      "\n",
      " the classic war worlds timothy hines entertaining film obviously goes great effort lengths faithfully recreate h g wells classic book mr hines succeeds so i watched film me appreciated fact standard predictable hollywood fare comes every year e g spielberg version tom cruise slightest resemblance book obviously everyone looks different things movie envision amateur critics look criticize everything can others rate movie important bases like entertained people never agree critics enjoyed effort mr hines put faithful h g wells classic novel found entertaining made easy overlook critics perceive shortcomings \n",
      "\n",
      "film starts manager nicholas bell giving welcome investors robert carradine primal park secret project mutating primal animal using fossilized dna like jurassik park scientists resurrect one nature s fearsome predators sabretooth tiger smilodon scientific ambition turns deadly however high voltage fence opened creature escape begins savagely stalking prey human visitors tourists scientific meanwhile youngsters enter restricted area security center attacked pack large pre historical animals deadlier bigger addition security agent stacy haiduk mate brian wimmer fight hardly carnivorous smilodons sabretooths course real star stars astounding terrifyingly though convincing giant animals savagely stalking prey group run afoul fight one nature s fearsome predators furthermore third sabretooth dangerous slow stalks victims the movie delivers goods lots blood gore beheading hair raising chills full scares sabretooths appear mediocre special effects the story provides exciting stirring entertainment results quite boring the giant animals majority made computer generator seem totally lousy middling performances though players reacting appropriately becoming food actors give vigorously physical performances dodging beasts running bound leaps dangling walls packs ridiculous final deadly scene small kids realistic gory violent attack scenes films sabretooths smilodon following sabretooth  by james r hickox vanessa angel david keith john rhys davies much better  bc  roland emmerich steven strait cliff curtis camilla belle motion picture filled bloody moments badly directed george miller originality takes many elements previous films miller australian director usually working television tidal wave journey center earth many others occasionally cinema man snowy river zeus roxanne robinson crusoe rating average bottom barrel \n",
      "\n"
     ]
    }
   ],
   "source": [
    "for i in range(3):\n",
    "    print(train_clean[i])\n",
    "    print()"
   ]
  },
  {
   "cell_type": "code",
   "execution_count": 11,
   "id": "a39e1978",
   "metadata": {
    "execution": {
     "iopub.execute_input": "2023-08-19T12:03:48.772401Z",
     "iopub.status.busy": "2023-08-19T12:03:48.771987Z",
     "iopub.status.idle": "2023-08-19T12:04:01.313780Z",
     "shell.execute_reply": "2023-08-19T12:04:01.312265Z"
    },
    "papermill": {
     "duration": 12.556768,
     "end_time": "2023-08-19T12:04:01.316792",
     "exception": false,
     "start_time": "2023-08-19T12:03:48.760024",
     "status": "completed"
    },
    "tags": []
   },
   "outputs": [
    {
     "name": "stdout",
     "output_type": "stream",
     "text": [
      "Fitting is complete.\n",
      "train_seq is complete.\n",
      "test_seq is complete\n"
     ]
    }
   ],
   "source": [
    "# Tokenize the reviews\n",
    "all_reviews = train_clean + test_clean\n",
    "tokenizer = Tokenizer()\n",
    "tokenizer.fit_on_texts(all_reviews)\n",
    "print(\"Fitting is complete.\")\n",
    "\n",
    "train_seq = tokenizer.texts_to_sequences(train_clean)\n",
    "print(\"train_seq is complete.\")\n",
    "\n",
    "test_seq = tokenizer.texts_to_sequences(test_clean)\n",
    "print(\"test_seq is complete\")"
   ]
  },
  {
   "cell_type": "code",
   "execution_count": 12,
   "id": "26cab1f6",
   "metadata": {
    "execution": {
     "iopub.execute_input": "2023-08-19T12:04:01.339137Z",
     "iopub.status.busy": "2023-08-19T12:04:01.338735Z",
     "iopub.status.idle": "2023-08-19T12:04:01.344991Z",
     "shell.execute_reply": "2023-08-19T12:04:01.343591Z"
    },
    "papermill": {
     "duration": 0.020334,
     "end_time": "2023-08-19T12:04:01.347438",
     "exception": false,
     "start_time": "2023-08-19T12:04:01.327104",
     "status": "completed"
    },
    "tags": []
   },
   "outputs": [
    {
     "name": "stdout",
     "output_type": "stream",
     "text": [
      "Words in index: 99425\n"
     ]
    }
   ],
   "source": [
    "# Find the number of unique tokens\n",
    "word_index = tokenizer.word_index\n",
    "print(\"Words in index: %d\" % len(word_index))"
   ]
  },
  {
   "cell_type": "code",
   "execution_count": 13,
   "id": "634a596b",
   "metadata": {
    "execution": {
     "iopub.execute_input": "2023-08-19T12:04:01.369207Z",
     "iopub.status.busy": "2023-08-19T12:04:01.368792Z",
     "iopub.status.idle": "2023-08-19T12:04:01.374729Z",
     "shell.execute_reply": "2023-08-19T12:04:01.373635Z"
    },
    "papermill": {
     "duration": 0.019743,
     "end_time": "2023-08-19T12:04:01.377181",
     "exception": false,
     "start_time": "2023-08-19T12:04:01.357438",
     "status": "completed"
    },
    "tags": []
   },
   "outputs": [
    {
     "name": "stdout",
     "output_type": "stream",
     "text": [
      "[437, 81, 481, 10863, 6, 71, 573, 2590, 115, 65, 948, 551, 51, 207, 24383, 207, 17034, 213, 188, 92, 19, 684, 2550, 118, 104, 14, 511, 3933, 188, 25, 240, 644, 2336, 1251, 17034, 85, 4772, 85, 701, 3, 298, 81, 15, 351, 1827, 533, 1209, 3566, 10863, 1, 477, 861, 3526, 22, 517, 662, 1403, 18, 60, 5290, 2073, 1109, 180, 406, 1512, 807, 2559, 5, 10863, 469, 81, 655, 80, 265, 109, 569, 10863, 33435, 29469, 141, 2, 10863, 374, 12, 57, 24, 374, 205, 14, 246, 173, 9, 740, 701, 3, 135, 334, 456, 138, 16333, 4102, 1702, 626, 865, 10467, 1009, 11946, 880, 1058, 1640, 408, 10863, 258, 18, 584, 134, 10863, 17899, 2288, 15681, 865, 10467, 1, 32, 36026, 381, 20, 46, 17447, 1403, 426, 9779, 188, 4220, 10863, 1, 115, 658, 511, 91, 5, 10863, 1541, 436, 2257, 131, 2124, 2367, 626, 22, 67, 112, 4731, 5337, 300, 1313, 29470, 18, 626, 547, 878, 655, 685, 4, 444, 190, 537, 131, 677, 3371, 1224, 779, 54, 1229, 260, 2, 20, 5, 10863, 4, 570, 73, 468, 30, 20, 239, 695, 151, 269, 108, 7617, 662, 3514, 10863, 1, 36027, 1676, 2, 152, 406, 1512, 287, 4, 946, 20, 48, 1488, 1215, 2336, 16, 601, 6, 71, 434, 713, 7167, 16, 46, 20, 194, 435, 3890, 3466, 46, 105, 263, 487, 246, 282, 118, 4, 19320, 19321, 355, 1489]\n",
      "\n",
      "[9, 272, 212, 3549, 4509, 10468, 348, 3, 452, 183, 21, 697, 8411, 10998, 8646, 1850, 1081, 4599, 272, 184, 359, 10468, 2736, 177, 6, 207, 3, 134, 2507, 105, 1190, 637, 262, 2544, 187, 84, 208, 669, 1081, 3317, 232, 746, 3719, 3878, 4315, 184, 452, 209, 203, 194, 91, 2, 19917, 2368, 1337, 79, 6462, 181, 87, 317, 884, 2, 567, 12471, 5, 2241, 20, 40, 941, 1337, 431, 697, 359, 10468, 186, 2779, 1850, 1081, 4599, 272, 591, 167, 348, 24, 680, 5218, 1337, 10999, 5607]\n",
      "\n",
      "[3, 456, 2875, 4773, 3612, 659, 2478, 17035, 528, 4475, 10238, 1147, 928, 1053, 31269, 10238, 1626, 707, 50267, 10239, 5, 50268, 1147, 3015, 11298, 4, 826, 1, 17900, 9575, 14531, 5037, 43715, 3623, 5338, 432, 2413, 102, 214, 26605, 7112, 2930, 1469, 962, 751, 17036, 6288, 4709, 308, 9361, 8885, 3623, 1933, 7431, 2248, 11138, 1524, 2479, 2087, 2931, 3016, 949, 1709, 1242, 1513, 33436, 1851, 1594, 2479, 1395, 9576, 36028, 4020, 1686, 50269, 476, 951, 23473, 62125, 31270, 180, 63, 237, 321, 5665, 20502, 70, 1009, 1253, 1513, 17036, 6288, 4709, 463, 412, 16334, 476, 4, 826, 1, 17900, 9575, 3791, 791, 14531, 1661, 480, 9577, 1450, 9, 2, 1467, 6243, 658, 464, 520, 17037, 1021, 5060, 5630, 279, 2668, 31270, 896, 1496, 222, 202, 9, 13, 1525, 1064, 8047, 639, 1936, 93, 265, 9, 1253, 1513, 2177, 24, 1213, 19918, 226, 377, 2198, 21883, 285, 70, 1800, 12472, 5083, 1530, 1596, 66, 108, 19919, 1646, 285, 16676, 12657, 554, 2685, 9163, 12855, 3613, 6966, 564, 388, 2413, 54, 316, 264, 722, 1994, 1046, 1275, 58, 33, 31270, 43715, 888, 14531, 959, 523, 1166, 31271, 6498, 2190, 512, 4021, 223, 8183, 3842, 17, 52, 16335, 9900, 36029, 2025, 16677, 3994, 4092, 8113, 6499, 1217, 353, 983, 1627, 304, 845, 442, 645, 2651, 2686, 221, 36, 730, 848, 33, 2651, 2038, 67, 547, 685, 608, 22662, 3105, 1170, 2087, 611, 36, 317, 1847, 351, 50, 9258, 1828, 18340, 27876, 4344, 43716, 589, 763, 1229, 5262]\n",
      "\n"
     ]
    }
   ],
   "source": [
    "# Inspect the reviews after they have been tokenized\n",
    "for i in range(3):\n",
    "    print(train_seq[i])\n",
    "    print()"
   ]
  },
  {
   "cell_type": "code",
   "execution_count": 14,
   "id": "775b8df3",
   "metadata": {
    "execution": {
     "iopub.execute_input": "2023-08-19T12:04:01.399270Z",
     "iopub.status.busy": "2023-08-19T12:04:01.398795Z",
     "iopub.status.idle": "2023-08-19T12:04:01.448697Z",
     "shell.execute_reply": "2023-08-19T12:04:01.447313Z"
    },
    "papermill": {
     "duration": 0.06395,
     "end_time": "2023-08-19T12:04:01.451402",
     "exception": false,
     "start_time": "2023-08-19T12:04:01.387452",
     "status": "completed"
    },
    "tags": []
   },
   "outputs": [],
   "source": [
    "# Find the length of reviews\n",
    "lengths = []\n",
    "for review in train_seq:\n",
    "    lengths.append(len(review))\n",
    "\n",
    "for review in test_seq:\n",
    "    lengths.append(len(review))\n",
    "\n",
    "# Create a dataframe so that the values can be inspected\n",
    "lengths = pd.DataFrame(lengths, columns=['counts'])"
   ]
  },
  {
   "cell_type": "code",
   "execution_count": 15,
   "id": "823e3452",
   "metadata": {
    "execution": {
     "iopub.execute_input": "2023-08-19T12:04:01.473212Z",
     "iopub.status.busy": "2023-08-19T12:04:01.472805Z",
     "iopub.status.idle": "2023-08-19T12:04:01.492061Z",
     "shell.execute_reply": "2023-08-19T12:04:01.490646Z"
    },
    "papermill": {
     "duration": 0.033535,
     "end_time": "2023-08-19T12:04:01.494916",
     "exception": false,
     "start_time": "2023-08-19T12:04:01.461381",
     "status": "completed"
    },
    "tags": []
   },
   "outputs": [
    {
     "data": {
      "text/plain": [
       "count    50000.000000\n",
       "mean       128.366580\n",
       "std         96.950296\n",
       "min          3.000000\n",
       "25%         68.000000\n",
       "50%         95.000000\n",
       "75%        156.000000\n",
       "max       1488.000000\n",
       "Name: counts, dtype: float64"
      ]
     },
     "execution_count": 15,
     "metadata": {},
     "output_type": "execute_result"
    }
   ],
   "source": [
    "lengths.counts.describe()"
   ]
  },
  {
   "cell_type": "code",
   "execution_count": 16,
   "id": "245ba179",
   "metadata": {
    "execution": {
     "iopub.execute_input": "2023-08-19T12:04:01.517818Z",
     "iopub.status.busy": "2023-08-19T12:04:01.517363Z",
     "iopub.status.idle": "2023-08-19T12:04:01.530121Z",
     "shell.execute_reply": "2023-08-19T12:04:01.528613Z"
    },
    "papermill": {
     "duration": 0.02696,
     "end_time": "2023-08-19T12:04:01.532646",
     "exception": false,
     "start_time": "2023-08-19T12:04:01.505686",
     "status": "completed"
    },
    "tags": []
   },
   "outputs": [
    {
     "name": "stdout",
     "output_type": "stream",
     "text": [
      "178.0\n",
      "208.0\n",
      "253.0\n",
      "332.0\n"
     ]
    }
   ],
   "source": [
    "print(np.percentile(lengths.counts, 80))\n",
    "print(np.percentile(lengths.counts, 85))\n",
    "print(np.percentile(lengths.counts, 90))\n",
    "print(np.percentile(lengths.counts, 95))"
   ]
  },
  {
   "cell_type": "code",
   "execution_count": 17,
   "id": "3198a60d",
   "metadata": {
    "execution": {
     "iopub.execute_input": "2023-08-19T12:04:01.555424Z",
     "iopub.status.busy": "2023-08-19T12:04:01.554970Z",
     "iopub.status.idle": "2023-08-19T12:04:02.418230Z",
     "shell.execute_reply": "2023-08-19T12:04:02.416345Z"
    },
    "papermill": {
     "duration": 0.878372,
     "end_time": "2023-08-19T12:04:02.421522",
     "exception": false,
     "start_time": "2023-08-19T12:04:01.543150",
     "status": "completed"
    },
    "tags": []
   },
   "outputs": [
    {
     "name": "stdout",
     "output_type": "stream",
     "text": [
      "train_pad is complete.\n",
      "test_pad is complete.\n"
     ]
    }
   ],
   "source": [
    "# Pad and truncate the questions so that they all have the same length.\n",
    "max_review_length = 250\n",
    "\n",
    "train_pad = pad_sequences(train_seq, maxlen = max_review_length)\n",
    "print(\"train_pad is complete.\")\n",
    "\n",
    "test_pad = pad_sequences(test_seq, maxlen = max_review_length)\n",
    "print(\"test_pad is complete.\")"
   ]
  },
  {
   "cell_type": "code",
   "execution_count": 18,
   "id": "627cde6c",
   "metadata": {
    "execution": {
     "iopub.execute_input": "2023-08-19T12:04:02.444796Z",
     "iopub.status.busy": "2023-08-19T12:04:02.444331Z",
     "iopub.status.idle": "2023-08-19T12:04:02.454908Z",
     "shell.execute_reply": "2023-08-19T12:04:02.453665Z"
    },
    "papermill": {
     "duration": 0.026236,
     "end_time": "2023-08-19T12:04:02.458186",
     "exception": false,
     "start_time": "2023-08-19T12:04:02.431950",
     "status": "completed"
    },
    "tags": []
   },
   "outputs": [
    {
     "name": "stdout",
     "output_type": "stream",
     "text": [
      "[    0     0     0     0     0     0     0     0     0     0     0     0\n",
      "     0     0     0   437    81   481 10863     6    71   573  2590   115\n",
      "    65   948   551    51   207 24383   207 17034   213   188    92    19\n",
      "   684  2550   118   104    14   511  3933   188    25   240   644  2336\n",
      "  1251 17034    85  4772    85   701     3   298    81    15   351  1827\n",
      "   533  1209  3566 10863     1   477   861  3526    22   517   662  1403\n",
      "    18    60  5290  2073  1109   180   406  1512   807  2559     5 10863\n",
      "   469    81   655    80   265   109   569 10863 33435 29469   141     2\n",
      " 10863   374    12    57]\n",
      "\n",
      "[0 0 0 0 0 0 0 0 0 0 0 0 0 0 0 0 0 0 0 0 0 0 0 0 0 0 0 0 0 0 0 0 0 0 0 0 0\n",
      " 0 0 0 0 0 0 0 0 0 0 0 0 0 0 0 0 0 0 0 0 0 0 0 0 0 0 0 0 0 0 0 0 0 0 0 0 0\n",
      " 0 0 0 0 0 0 0 0 0 0 0 0 0 0 0 0 0 0 0 0 0 0 0 0 0 0]\n",
      "\n",
      "[    0     0     0     0     3   456  2875  4773  3612   659  2478 17035\n",
      "   528  4475 10238  1147   928  1053 31269 10238  1626   707 50267 10239\n",
      "     5 50268  1147  3015 11298     4   826     1 17900  9575 14531  5037\n",
      " 43715  3623  5338   432  2413   102   214 26605  7112  2930  1469   962\n",
      "   751 17036  6288  4709   308  9361  8885  3623  1933  7431  2248 11138\n",
      "  1524  2479  2087  2931  3016   949  1709  1242  1513 33436  1851  1594\n",
      "  2479  1395  9576 36028  4020  1686 50269   476   951 23473 62125 31270\n",
      "   180    63   237   321  5665 20502    70  1009  1253  1513 17036  6288\n",
      "  4709   463   412 16334]\n",
      "\n"
     ]
    }
   ],
   "source": [
    "# Inspect the reviews after padding has been completed. \n",
    "for i in range(3):\n",
    "    print(train_pad[i,:100])\n",
    "    print()"
   ]
  },
  {
   "cell_type": "code",
   "execution_count": 19,
   "id": "329a4642",
   "metadata": {
    "execution": {
     "iopub.execute_input": "2023-08-19T12:04:02.481862Z",
     "iopub.status.busy": "2023-08-19T12:04:02.481131Z",
     "iopub.status.idle": "2023-08-19T12:04:02.504020Z",
     "shell.execute_reply": "2023-08-19T12:04:02.502692Z"
    },
    "papermill": {
     "duration": 0.037862,
     "end_time": "2023-08-19T12:04:02.506783",
     "exception": false,
     "start_time": "2023-08-19T12:04:02.468921",
     "status": "completed"
    },
    "tags": []
   },
   "outputs": [],
   "source": [
    "# Creating the training and validation sets\n",
    "x_train, x_valid, y_train, y_valid = train_test_split(train_pad, train.sentiment, test_size = 0.15, random_state = 2)\n",
    "x_test = test_pad"
   ]
  },
  {
   "cell_type": "code",
   "execution_count": 20,
   "id": "2e2df9ad",
   "metadata": {
    "execution": {
     "iopub.execute_input": "2023-08-19T12:04:02.531332Z",
     "iopub.status.busy": "2023-08-19T12:04:02.530469Z",
     "iopub.status.idle": "2023-08-19T12:04:02.536937Z",
     "shell.execute_reply": "2023-08-19T12:04:02.535591Z"
    },
    "papermill": {
     "duration": 0.021859,
     "end_time": "2023-08-19T12:04:02.539335",
     "exception": false,
     "start_time": "2023-08-19T12:04:02.517476",
     "status": "completed"
    },
    "tags": []
   },
   "outputs": [
    {
     "name": "stdout",
     "output_type": "stream",
     "text": [
      "(21250, 250)\n",
      "(3750, 250)\n",
      "(25000, 250)\n"
     ]
    }
   ],
   "source": [
    "# Inspect the shape of the data\n",
    "print(x_train.shape)\n",
    "print(x_valid.shape)\n",
    "print(x_test.shape)"
   ]
  },
  {
   "cell_type": "markdown",
   "id": "8ea52e04",
   "metadata": {
    "papermill": {
     "duration": 0.010116,
     "end_time": "2023-08-19T12:04:02.560276",
     "exception": false,
     "start_time": "2023-08-19T12:04:02.550160",
     "status": "completed"
    },
    "tags": []
   },
   "source": [
    "# **KNN MODEL BUILD & TRAIN**"
   ]
  },
  {
   "cell_type": "code",
   "execution_count": 21,
   "id": "f40b04af",
   "metadata": {
    "execution": {
     "iopub.execute_input": "2023-08-19T12:04:02.583595Z",
     "iopub.status.busy": "2023-08-19T12:04:02.583137Z",
     "iopub.status.idle": "2023-08-19T12:04:02.590163Z",
     "shell.execute_reply": "2023-08-19T12:04:02.589146Z"
    },
    "papermill": {
     "duration": 0.021471,
     "end_time": "2023-08-19T12:04:02.592561",
     "exception": false,
     "start_time": "2023-08-19T12:04:02.571090",
     "status": "completed"
    },
    "tags": []
   },
   "outputs": [],
   "source": [
    "def get_batches(x, y, batch_size):\n",
    "    '''Create the batches for the training and validation data'''\n",
    "    n_batches = len(x)//batch_size\n",
    "    x, y = x[:n_batches*batch_size], y[:n_batches*batch_size]\n",
    "    for ii in range(0, len(x), batch_size):\n",
    "        yield x[ii:ii+batch_size], y[ii:ii+batch_size]"
   ]
  },
  {
   "cell_type": "code",
   "execution_count": 22,
   "id": "5a5f7ac9",
   "metadata": {
    "execution": {
     "iopub.execute_input": "2023-08-19T12:04:02.616321Z",
     "iopub.status.busy": "2023-08-19T12:04:02.615617Z",
     "iopub.status.idle": "2023-08-19T12:04:02.621698Z",
     "shell.execute_reply": "2023-08-19T12:04:02.620200Z"
    },
    "papermill": {
     "duration": 0.020869,
     "end_time": "2023-08-19T12:04:02.624266",
     "exception": false,
     "start_time": "2023-08-19T12:04:02.603397",
     "status": "completed"
    },
    "tags": []
   },
   "outputs": [],
   "source": [
    "def get_test_batches(x, batch_size):\n",
    "    '''Create the batches for the testing data'''\n",
    "    n_batches = len(x)//batch_size\n",
    "    x = x[:n_batches*batch_size]\n",
    "    for ii in range(0, len(x), batch_size):\n",
    "        yield x[ii:ii+batch_size]"
   ]
  },
  {
   "cell_type": "code",
   "execution_count": 23,
   "id": "93ef60f4",
   "metadata": {
    "execution": {
     "iopub.execute_input": "2023-08-19T12:04:02.647959Z",
     "iopub.status.busy": "2023-08-19T12:04:02.647504Z",
     "iopub.status.idle": "2023-08-19T12:04:02.654120Z",
     "shell.execute_reply": "2023-08-19T12:04:02.652529Z"
    },
    "papermill": {
     "duration": 0.021883,
     "end_time": "2023-08-19T12:04:02.656817",
     "exception": false,
     "start_time": "2023-08-19T12:04:02.634934",
     "status": "completed"
    },
    "tags": []
   },
   "outputs": [],
   "source": [
    "# The default parameters of the model\n",
    "n_words = len(word_index)\n",
    "embed_size = 300\n",
    "batch_size = 250\n",
    "lstm_size = 128\n",
    "num_layers = 2\n",
    "dropout = 0.5\n",
    "learning_rate = 0.001\n",
    "epochs = 100\n",
    "multiple_fc = False\n",
    "fc_units = 256"
   ]
  }
 ],
 "metadata": {
  "kernelspec": {
   "display_name": "Python 3",
   "language": "python",
   "name": "python3"
  },
  "language_info": {
   "codemirror_mode": {
    "name": "ipython",
    "version": 3
   },
   "file_extension": ".py",
   "mimetype": "text/x-python",
   "name": "python",
   "nbconvert_exporter": "python",
   "pygments_lexer": "ipython3",
   "version": "3.10.12"
  },
  "papermill": {
   "default_parameters": {},
   "duration": 66.767782,
   "end_time": "2023-08-19T12:04:05.424313",
   "environment_variables": {},
   "exception": null,
   "input_path": "__notebook__.ipynb",
   "output_path": "__notebook__.ipynb",
   "parameters": {},
   "start_time": "2023-08-19T12:02:58.656531",
   "version": "2.4.0"
  }
 },
 "nbformat": 4,
 "nbformat_minor": 5
}
